{
 "cells": [
  {
   "cell_type": "markdown",
   "id": "b474153b",
   "metadata": {
    "ExecuteTime": {
     "end_time": "2022-05-08T11:16:23.922069Z",
     "start_time": "2022-05-08T11:16:23.892198Z"
    }
   },
   "source": [
    "# <center>Assignment Basic Statistics Level 2: Set 2</center>"
   ]
  },
  {
   "cell_type": "markdown",
   "id": "cd70552c",
   "metadata": {},
   "source": [
    "__<center>Topics: Normal distribution, Functions of Random Variables</center>__"
   ]
  },
  {
   "cell_type": "code",
   "execution_count": 22,
   "id": "dd031aba",
   "metadata": {
    "ExecuteTime": {
     "end_time": "2022-05-11T18:56:50.053625Z",
     "start_time": "2022-05-11T18:56:49.898202Z"
    }
   },
   "outputs": [],
   "source": [
    "import numpy as np\n",
    "import pandas as pd\n",
    "from scipy import stats\n",
    "from scipy.stats import norm\n",
    "import seaborn as sn"
   ]
  },
  {
   "cell_type": "markdown",
   "id": "d04d9ee2",
   "metadata": {
    "ExecuteTime": {
     "end_time": "2022-05-08T11:16:50.234412Z",
     "start_time": "2022-05-08T11:16:50.212164Z"
    }
   },
   "source": [
    "__Question 1__<br>\n",
    "The time required for servicing transmissions is normally distributed with $\\mu$= 45 minutes and $\\sigma$ = 8 minutes. The service manager plans to have work begin on the transmission of a customer’s car 10 minutes after the car is dropped off and the customer is told that the car will be ready within 1 hour from drop-off. What is the probability that the service manager cannot meet his commitment? <br>\n",
    "\n",
    "A.\t0.3875   <br>\n",
    "B.\t0.2676   <br>\n",
    "C.\t0.5   <br>\n",
    "D.\t0.6987 <br>"
   ]
  },
  {
   "cell_type": "markdown",
   "id": "e02bbc60",
   "metadata": {},
   "source": [
    "__Ans 1)  B__<br>\n",
    "\n",
    "Calculating Zscore for P(X< 60)<br>\n",
    "X=60<br>\n",
    "$\\mu$ = 45 there is additional wait time of 10 minutes so  we take $mu$ as 55<br>\n",
    "$\\sigma$ = 8<br>\n",
    "Z=(X-$\\mu$)/$\\sigma$ = (60-55)/8=0.625<br>\n",
    "\n",
    "Probability (P<-60) using Z tables is 0.7642 <br>\n",
    "Probability (P>60) =1-0.7642=.2358<br>\n",
    "__choosing the nearest answer as B__\n"
   ]
  },
  {
   "cell_type": "markdown",
   "id": "d6719ff1",
   "metadata": {},
   "source": [
    "__<hr style=\"border:1px solid blue\">__"
   ]
  },
  {
   "cell_type": "markdown",
   "id": "4e991b69",
   "metadata": {},
   "source": [
    "__Question 2:__<br>\n",
    "The current age (in years) of 400 clerical employees at an insurance claims processing center is normally distributed with mean $\\mu$ = 38 and Standard deviation$\\sigma$ =6. For each statement below, please specify True/False. If false, briefly explain why.<br><br>\n",
    "A.\tMore employees at the processing center are older than 44 than between 38 and 44.<br><br>\n",
    "B.\tA training program for employees under the age of 30 at the center would be expected to attract about 36 employees.<br>"
   ]
  },
  {
   "cell_type": "markdown",
   "id": "8475ca4b",
   "metadata": {},
   "source": [
    "__Ans 2:__<br>\n",
    "__A: False__<br>\n",
    "Reason:<br>\n",
    "\tNeed to check for P(38<= X<=44)<br>\n",
    "\tP(X<38)<br>\n",
    "\tZ=38-38/6=0/6=0<br>\n",
    "\tProbability for Z at 0 is 0.5<br>\n",
    "\tP(X<44)<br>\n",
    "\tZ=44-38/6=6/6=1<br>\n",
    "\tProbability for Z at 1 is 0.8413<br>\n",
    "\tProbability of age between 38 and 44 is __0.8413-0.5= 0.3413__ i.e. __34.13%__.<br>\n",
    "    __This means 34% are having probability of age between 38 and 44 , however 62% are outside this range.__<br><br>\n",
    " __B:True__<br>\n",
    " __Z score for 30 =(30-38)/6=-2/6=-0.33, __has probability of 0.3707 i.e. 37%__\n"
   ]
  },
  {
   "cell_type": "markdown",
   "id": "8a7edc9a",
   "metadata": {},
   "source": [
    "__Question 3:__<br>\n",
    "If X1 ~ N(μ, σ2) and X2 ~ N(μ, σ2) are iid normal random variables, then what is the difference between 2 X1 and X1 + X2? Discuss both their distributions and parameters.\n",
    "\n",
    "\n",
    "Ans 3: \n"
   ]
  },
  {
   "cell_type": "markdown",
   "id": "1463abc0",
   "metadata": {},
   "source": [
    "__<hr style=\"border:1px solid blue\">__"
   ]
  },
  {
   "cell_type": "markdown",
   "id": "45990134",
   "metadata": {},
   "source": [
    "__Question 4:__<br>\n",
    "Let X ~ N(100, 202). Find two values, a and b, symmetric about the mean, such that the probability of the random variable taking a value between them is 0.99. <br>\n",
    "\n",
    "A.\t90.5, 105.9 <br>\n",
    "B.\t80.2, 119.8 <br>\n",
    "C.\t22, 78 <br>\n",
    "D.\t48.5, 151.5 <br>\n",
    "E.\t90.1, 109.9<br>\n"
   ]
  },
  {
   "cell_type": "markdown",
   "id": "69a699a0",
   "metadata": {},
   "source": [
    "__Answer 4: Option D__, please see interval function used below."
   ]
  },
  {
   "cell_type": "code",
   "execution_count": 24,
   "id": "71a26713",
   "metadata": {
    "ExecuteTime": {
     "end_time": "2022-05-11T19:24:22.443913Z",
     "start_time": "2022-05-11T19:24:22.413076Z"
    }
   },
   "outputs": [
    {
     "data": {
      "text/plain": [
       "(48.48341392902199, 151.516586070978)"
      ]
     },
     "execution_count": 24,
     "metadata": {},
     "output_type": "execute_result"
    }
   ],
   "source": [
    "stats.norm.interval(0.99,100,20)"
   ]
  },
  {
   "cell_type": "markdown",
   "id": "537501df",
   "metadata": {
    "ExecuteTime": {
     "end_time": "2022-05-11T19:25:02.764745Z",
     "start_time": "2022-05-11T19:25:02.740051Z"
    }
   },
   "source": [
    "__<hr style=\"border:1px solid blue\">__"
   ]
  },
  {
   "cell_type": "markdown",
   "id": "ef754a8f",
   "metadata": {},
   "source": [
    "__Question 5:__<br>\n",
    "Consider a company that has two different divisions. The annual profits from the two divisions are independent and have distributions Profit1 ~ N(5, 32) and Profit2 ~ N(7, 42) respectively. Both the profits are in $\\$$ Million. Answer the following questions about the total profit of the company in Rupees. Assume that $1 = Rs. 45<br><br>\n",
    "A.\tSpecify a Rupee range (centered on the mean) such that it contains 95% probability for the annual profit of the company.<br>\n",
    "B.\tSpecify the 5th percentile of profit (in Rupees) for the company<br>\n",
    "C.\tWhich of the two divisions has a larger probability of making a loss in a given year?\n"
   ]
  },
  {
   "cell_type": "markdown",
   "id": "9cb8cbf1",
   "metadata": {},
   "source": [
    "__Answer 5 A:__<br><br>\n",
    "Range is Rs (99.00810347848784, 980.9918965215122) in Millions. (please find calculation below:)"
   ]
  },
  {
   "cell_type": "code",
   "execution_count": 29,
   "id": "b5ba2886",
   "metadata": {
    "ExecuteTime": {
     "end_time": "2022-05-11T19:31:08.543120Z",
     "start_time": "2022-05-11T19:31:08.530608Z"
    }
   },
   "outputs": [
    {
     "name": "stdout",
     "output_type": "stream",
     "text": [
      "Mean profit is Rs.  540  milliions\n"
     ]
    }
   ],
   "source": [
    "mean=5+7\n",
    "print(\"Mean profit is Rs. \",mean*45, \" milliions\")"
   ]
  },
  {
   "cell_type": "code",
   "execution_count": 32,
   "id": "315ef91d",
   "metadata": {
    "ExecuteTime": {
     "end_time": "2022-05-11T19:35:22.041173Z",
     "start_time": "2022-05-11T19:35:22.019002Z"
    }
   },
   "outputs": [
    {
     "name": "stdout",
     "output_type": "stream",
     "text": [
      "Standard Deviation is Rs 225.0 Million\n"
     ]
    }
   ],
   "source": [
    "#Variance of profits from two divisions sd^2=SD1^2 +SD2^2\n",
    "SD = np.sqrt((9)+(16))\n",
    "print('Standard Deviation is Rs', SD*45, 'Million')"
   ]
  },
  {
   "cell_type": "code",
   "execution_count": 34,
   "id": "e44f1a29",
   "metadata": {
    "ExecuteTime": {
     "end_time": "2022-05-11T19:36:08.493642Z",
     "start_time": "2022-05-11T19:36:08.483021Z"
    }
   },
   "outputs": [
    {
     "name": "stdout",
     "output_type": "stream",
     "text": [
      "Range is Rs (99.00810347848784, 980.9918965215122) in Millions\n"
     ]
    }
   ],
   "source": [
    "# Specify a Rupee range (centered on the mean) such that it contains 95% probability for the annual profit of the company.\n",
    "print('Range is Rs',(stats.norm.interval(0.95,540,225)),'in Millions')"
   ]
  },
  {
   "cell_type": "markdown",
   "id": "8340f673",
   "metadata": {},
   "source": [
    "__Answer 5 B:__<br>5th Percentile: 170.0 (calcultion below)"
   ]
  },
  {
   "cell_type": "code",
   "execution_count": 35,
   "id": "3449c587",
   "metadata": {
    "ExecuteTime": {
     "end_time": "2022-05-11T19:38:44.429529Z",
     "start_time": "2022-05-11T19:38:44.412345Z"
    }
   },
   "outputs": [
    {
     "name": "stdout",
     "output_type": "stream",
     "text": [
      "5th percentile of profit (in Million Rupees) is 170.0\n"
     ]
    }
   ],
   "source": [
    "#Specify the 5th percentile of profit (in Rupees) for the company\n",
    "# To compute 5th Percentile, we use the formula X=μ + Zσ; wherein from z table, 5 percentile = -1.645\n",
    "X= 540+(-1.645)*(225)\n",
    "print('5th percentile of profit (in Million Rupees) is',np.round(X,))"
   ]
  },
  {
   "cell_type": "markdown",
   "id": "0f7d0d42",
   "metadata": {},
   "source": [
    "__Answer 5 C:__<br>\n",
    "-\tProbability of __First division making loss is 0.04779__ (has slightly more chance of making loss).\n",
    "-\tProbability of __Secondt division making loss is 0.04005__"
   ]
  },
  {
   "cell_type": "code",
   "execution_count": 36,
   "id": "67af2a2e",
   "metadata": {
    "ExecuteTime": {
     "end_time": "2022-05-11T19:40:46.035737Z",
     "start_time": "2022-05-11T19:40:46.010766Z"
    }
   },
   "outputs": [
    {
     "data": {
      "text/plain": [
       "0.0477903522728147"
      ]
     },
     "execution_count": 36,
     "metadata": {},
     "output_type": "execute_result"
    }
   ],
   "source": [
    "# Probability of Division 1 making a loss P(X<0)\n",
    "stats.norm.cdf(0,5,3)"
   ]
  },
  {
   "cell_type": "code",
   "execution_count": 37,
   "id": "adb7946f",
   "metadata": {
    "ExecuteTime": {
     "end_time": "2022-05-11T19:40:47.447695Z",
     "start_time": "2022-05-11T19:40:47.427726Z"
    }
   },
   "outputs": [
    {
     "data": {
      "text/plain": [
       "0.040059156863817086"
      ]
     },
     "execution_count": 37,
     "metadata": {},
     "output_type": "execute_result"
    }
   ],
   "source": [
    "# Probability of Division 2 making a loss P(X<0)\n",
    "stats.norm.cdf(0,7,4)"
   ]
  },
  {
   "cell_type": "markdown",
   "id": "d07a6b1a",
   "metadata": {},
   "source": [
    "__<hr style=\"border:1px solid blue\">__"
   ]
  }
 ],
 "metadata": {
  "_draft": {
   "nbviewer_url": "https://gist.github.com/2ef04364b53dbbd46c7d975883f79621"
  },
  "gist": {
   "data": {
    "description": "Assignment Basic Statistics Level 2 Set  2.ipynb",
    "public": true
   },
   "id": "2ef04364b53dbbd46c7d975883f79621"
  },
  "kernelspec": {
   "display_name": "Python 3 (ipykernel)",
   "language": "python",
   "name": "python3"
  },
  "language_info": {
   "codemirror_mode": {
    "name": "ipython",
    "version": 3
   },
   "file_extension": ".py",
   "mimetype": "text/x-python",
   "name": "python",
   "nbconvert_exporter": "python",
   "pygments_lexer": "ipython3",
   "version": "3.9.7"
  }
 },
 "nbformat": 4,
 "nbformat_minor": 5
}
