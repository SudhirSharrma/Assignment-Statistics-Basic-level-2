{
 "cells": [
  {
   "cell_type": "markdown",
   "id": "aa58e8b6",
   "metadata": {},
   "source": [
    "# <center>Assignment Basic Statistics Level 2: Set 3<center>"
   ]
  },
  {
   "cell_type": "markdown",
   "id": "44b0fdfc",
   "metadata": {},
   "source": [
    "__<i>Question 1<i>__<br>\n",
    "__1.\tFor each of the following statements, indicate whether it is True/False. If false, explain why.__\n",
    "\n",
    "I.\tThe sample size of the survey should at least be a fixed percentage of the population size in order to produce representative results.\n",
    "\n",
    "II.\tThe sampling frame is a list of every item that appears in a survey sample, including those that did not respond to questions.\n",
    "\n",
    "\n",
    "III.\tLarger surveys convey a more accurate impression of the population than smaller surveys."
   ]
  },
  {
   "cell_type": "markdown",
   "id": "6202a75d",
   "metadata": {},
   "source": [
    "__Ans 1 (I) : True__ : For Survey, the sample size is always a percentage of total population but never exceeding 1000 and minimum sample size should be 100, if population itself less than 100 then we need to survey all of them."
   ]
  },
  {
   "cell_type": "markdown",
   "id": "641c6d70",
   "metadata": {},
   "source": [
    "__Ans 1 (II) : False__: \n",
    "A Sampling frame is list items in the population, once we have created sampling frame, then we create the sample. We never create Sampling Frame from a sample."
   ]
  },
  {
   "cell_type": "markdown",
   "id": "46267b91",
   "metadata": {},
   "source": [
    "__Ans 1 (II) : True__ :\n",
    "A larger survey covers larger sample, providing more precise results as compared to small surey."
   ]
  },
  {
   "cell_type": "markdown",
   "id": "b0ebcb16",
   "metadata": {},
   "source": [
    "__<hr style=\"border:1px solid blue\">__"
   ]
  },
  {
   "cell_type": "markdown",
   "id": "a78212de",
   "metadata": {},
   "source": [
    "__<i>Question 2<i>__<br>\n",
    "2.\tPC Magazine asked all of its readers to participate in a survey of their satisfaction with different brands of electronics. In the 2004 survey, which was included in an issue of the magazine that year, more than 9000 readers rated the products on a scale from 1 to 10. The magazine reported that the average rating assigned by 225 readers to a Kodak compact digital camera was 7.5. For this product, identify the following:<br>\n",
    "\n",
    "A.\tThe population<br>\n",
    "B.\tThe parameter of interest<br>\n",
    "C.\tThe sampling frame<br>\n",
    "D.\tThe sample size<br>\n",
    "E.\tThe sampling design<br>\n",
    "F.\tAny potential sources of bias or other problems with the survey or sample\n"
   ]
  },
  {
   "cell_type": "markdown",
   "id": "bd1f6d14",
   "metadata": {
    "ExecuteTime": {
     "end_time": "2022-05-09T17:32:06.575590Z",
     "start_time": "2022-05-09T17:32:06.520367Z"
    }
   },
   "source": [
    "__<i>Anwer 2</i>__<br>\n",
    "__A.__:Poplation Size: 9000<br>\n",
    "__B.__:Parameters of Interest: Camera ratings (7.5 for Kodak Digital Camera)<br>\n",
    "__C.__:Sample Frame: All readers of magazine where survey was inlcuded<br>\n",
    "__D.__:Sample Size: 225<br>\n",
    "__E.__:Sample Design: Voluntary Survey participation<br>\n",
    "__F.__:Potential Sources of bias or other problems with survey or sample: As this is voluntary response survey, chances are are people who are Very Satisfied or very dissatisfied, the responses may not represent actual results."
   ]
  },
  {
   "cell_type": "markdown",
   "id": "ed553517",
   "metadata": {},
   "source": [
    "__<hr style=\"border:1px solid blue\">__"
   ]
  },
  {
   "cell_type": "markdown",
   "id": "17f87614",
   "metadata": {},
   "source": [
    "__<i>Question 3<i>__<br>\n",
    "3.\tFor each of the following statements, indicate whether it is True/False. If false, explain why.\n",
    "\n",
    "I.\tIf the 95% confidence interval for the average purchase of customers at a department store is $50 to $110, then $100 is a plausible value for the population mean at this level of confidence.\n",
    "\n",
    "II.\tIf the 95% confidence interval for the number of moviegoers who purchase concessions is 30% to 45%, this means that fewer than half of all moviegoers purchase concessions.\n",
    "\n",
    "III.\tThe 95% Confidence-Interval for μ only applies if the sample data are nearly normally distributed.\n"
   ]
  },
  {
   "cell_type": "markdown",
   "id": "eb5b0fb0",
   "metadata": {
    "ExecuteTime": {
     "end_time": "2022-05-09T17:56:23.183025Z",
     "start_time": "2022-05-09T17:56:23.166703Z"
    }
   },
   "source": [
    "__<i>Anwer 3</i>__<br>\n",
    "__I.   True :__ Confidence level gives range in which majority of values will fall, so there are high chance that mean will fall between $50 and $110,so $100 can be possible value of mean.<br>\n",
    "__II.  False__: to have more accurate results here we need 99% Confidence level that will have smaller signifcance value thus kroe acruate results. <br>\n",
    "__III. False__: For Sample to data to be Normally distributed, we would need more and larger samples."
   ]
  },
  {
   "cell_type": "markdown",
   "id": "ae240a83",
   "metadata": {
    "ExecuteTime": {
     "end_time": "2022-05-09T18:12:56.122214Z",
     "start_time": "2022-05-09T18:12:56.104858Z"
    }
   },
   "source": [
    "__<hr style=\"border:1px solid blue\">__"
   ]
  },
  {
   "cell_type": "markdown",
   "id": "034f7fba",
   "metadata": {},
   "source": [
    "__<i>Question 4<i>__<br>\n",
    "4. What are the chances that $\\bar x$ > $\\mu$ ?<br>\n",
    "\n",
    "A.\t¼ <br>\n",
    "B.\t½ <br>\n",
    "C.\t¾ <br>\n",
    "D.\t1\n",
    "\n",
    "\n",
    "\n",
    "\n",
    "\n",
    "\n",
    "\n"
   ]
  },
  {
   "cell_type": "markdown",
   "id": "6b0ad117",
   "metadata": {},
   "source": [
    "__<i>Anwer 4</i>__ : __B__<br>\n",
    "this will depend on data under study and it seems the questions is an assumption, also will depend on number of samples taken.\n"
   ]
  },
  {
   "cell_type": "markdown",
   "id": "e532e301",
   "metadata": {},
   "source": [
    "__<hr style=\"border:1px solid blue\">__"
   ]
  },
  {
   "cell_type": "markdown",
   "id": "0dff5aa0",
   "metadata": {},
   "source": [
    "__<i>Question 5<i>__<br>\n",
    "5.\tIn January 2005, a company that monitors Internet traffic (WebSideStory) reported that its sampling revealed that the Mozilla Firefox browser launched in 2004 had grabbed a 4.6% share of the market.<br>\n",
    "\n",
    "I.\tIf the sample were based on 2,000 users, could Microsoft conclude that Mozilla has a less than 5% share of the market?<br>\n",
    "\n",
    "II.\tWebSideStory claims that its sample includes all the daily Internet users. If that’s the case, then can Microsoft conclude that Mozilla has a less than 5% share of the market?\n"
   ]
  },
  {
   "cell_type": "markdown",
   "id": "0ec79a11",
   "metadata": {},
   "source": [
    "__<i>Anwer 5</i>__<br>\n",
    "__I.__:__Yes__, Mozila share is less than 5% of the market share<br>\n",
    "\n",
    "\n",
    "H0: Mozilla's Market share >= 5% of market share<br>\n",
    "H1: Mozilla's market share is < 5% <br>\n",
    "Test Used: One-sample z-test for proportions\n",
    "\n",
    "\n",
    "__<i>statistical value</i>__\n",
    "z =($\\hat{p}$ - p0)/SQRT(p0(1-p0)/n).   <br>\n",
    "where:<br>\n",
    "z= test statistical value  <br>\n",
    "p0 = Null Hypothesis value ie. 5 or 0.05<br>\n",
    "$\\hat{p}$: observerd propotion i.e 4.6% or 0.046 <br>\n",
    "n=sample size <br><br>\n",
    "\n",
    "z= (0.046-0.05)/(SQRT(0.05(1-0.05)/2000) <br>\n",
    "z=(-0.004).(SQRT(-4/2000)) <br>\n",
    "z= -0.82078 <br><br>\n",
    "\n",
    "__<i>Critical value</i>__\n",
    "assumption: Confidence level is 95% and significance level is 5% <br>\n",
    "\n",
    "the critical value of z as per ztables is -1.96 at 95% confidence level.<br>\n",
    "\n",
    "__<i>statistical vs critical value__</i><br>\n",
    "statistical value (-0.82078) is greater than crtical value(-1.96) for given sample we rejcet the null hypothesis (H0).<br> __Conclusion: Mozilla market share for 2000 sample is less than 5% share of the market__\n",
    "\n",
    "\n",
    "\n",
    "__II.__:__Yes__, Mozilla has less than 5% of Market Share, because the problem statement itself says that Mozilla Firefox has 4.6% of market share based on monitoring of daily internet traffic of all internet users (complete population)."
   ]
  },
  {
   "cell_type": "markdown",
   "id": "1e8b289f",
   "metadata": {},
   "source": [
    "__<hr style=\"border:1px solid blue\">__"
   ]
  },
  {
   "cell_type": "markdown",
   "id": "70051bf9",
   "metadata": {},
   "source": [
    "__<i>Question 6<i>__<br>\n",
    "6.\tA book publisher monitors the size of shipments of its textbooks to university bookstores. For a sample of texts used at various schools, the 95% confidence interval for the size of the shipment was 250 ± 45 books. Which, if any, of the following interpretations of this interval are correct?<br>\n",
    "\n",
    "A.\tAll shipments are between 205 and 295 books.<br>\n",
    "\n",
    "B.\t95% of shipments are between 205 and 295 books.<br>\n",
    "\n",
    "C.\tThe procedure that produced this interval generates ranges that hold the population mean for 95% of samples.<br>\n",
    "\n",
    "D.\tIf we get another sample, then we can be 95% sure that the mean of this second sample is between 205 and 295.<br>\n",
    "\n",
    "E.\tWe can be 95% confident that the range 160 to 340 holds the population mean."
   ]
  },
  {
   "cell_type": "markdown",
   "id": "b1259592",
   "metadata": {},
   "source": [
    "__<i>Anwer 6</i>__"
   ]
  },
  {
   "cell_type": "code",
   "execution_count": 58,
   "id": "94f9cbd5",
   "metadata": {
    "ExecuteTime": {
     "end_time": "2022-05-10T17:29:10.446792Z",
     "start_time": "2022-05-10T17:29:10.430523Z"
    }
   },
   "outputs": [
    {
     "name": "stdout",
     "output_type": "stream",
     "text": [
      "probablity of having books less than and equal to 295 is:  0.9750479056690684\n",
      "probablity of having books greater than or equla to 205 is:  0.02495209433093158\n"
     ]
    }
   ],
   "source": [
    "#Answer 6 A:\n",
    "#Confidence level = 95%, so zscore is 1.96\n",
    "\n",
    "#objective: find if all shipments fall between 205 and 250\n",
    "\n",
    "# we know Interval estimate = Point of estimate +/- Margin of error, which implies we have:\n",
    "# Min = 250-45 = 205 and Max=250+45\n",
    "# therefore the popluation stdev = 45/1.96=22.95\n",
    "# find if number book lie between 205 and 250 i.e. P( 205<= x <=250), to check we use stats.norm.cdf() funtion\n",
    "\n",
    "from scipy import stats\n",
    "print(\"probablity of having books less than and equal to 295 is: \",stats.norm.cdf(295,250,22.95))\n",
    "print(\"probablity of having books greater than or equla to 205 is: \",stats.norm.cdf(205,250,22.95))"
   ]
  },
  {
   "cell_type": "markdown",
   "id": "3bd7762d",
   "metadata": {},
   "source": [
    "__Ans A__:__No__, probablity of having all books between 205 and 250 is NOT there (between 24% to 97%),  this is evident also from question itself where Confidence level is taken as 95% i.e not all books."
   ]
  },
  {
   "cell_type": "markdown",
   "id": "fb1b3202",
   "metadata": {
    "ExecuteTime": {
     "end_time": "2022-05-10T13:13:06.882946Z",
     "start_time": "2022-05-10T13:13:06.861558Z"
    }
   },
   "source": [
    "__Ans B__: __Yes__, it is evident as we have used 95% of Confidence level."
   ]
  },
  {
   "cell_type": "markdown",
   "id": "0398ff1f",
   "metadata": {
    "ExecuteTime": {
     "end_time": "2022-05-10T13:19:03.514058Z",
     "start_time": "2022-05-10T13:19:03.493112Z"
    }
   },
   "source": [
    "__Ans C:Yes__, this sample contains population means of 95% of sample."
   ]
  },
  {
   "cell_type": "markdown",
   "id": "bdb46eac",
   "metadata": {},
   "source": [
    "__Ans D:Yes__, with 95% confidence level we shall get the same range and mean shall also fall between the same range."
   ]
  },
  {
   "cell_type": "markdown",
   "id": "f6823fc0",
   "metadata": {},
   "source": [
    " __Ans E:No__, If we increase the Class interval range to 160-340, will result in increase the value of 1- Sigma (1- standard deviation), to have Class interval of 160- 340 we will need to increase the Confidence level to 99%\n",
    " "
   ]
  },
  {
   "cell_type": "code",
   "execution_count": 59,
   "id": "c9f09f3c",
   "metadata": {
    "ExecuteTime": {
     "end_time": "2022-05-10T17:29:18.593732Z",
     "start_time": "2022-05-10T17:29:18.579282Z"
    }
   },
   "outputs": [
    {
     "name": "stdout",
     "output_type": "stream",
     "text": [
      "class interval for confidence level 95%: (205.01882655480577, 294.98117344519426)\n",
      "class interval for confidence level 99%: (190.88471748355275, 309.1152825164473)\n"
     ]
    }
   ],
   "source": [
    "print(\"class interval for confidence level 95%:\", stats.norm.interval(0.95,250,22.95))\n",
    "print(\"class interval for confidence level 99%:\", stats.norm.interval(0.99,250,22.95))"
   ]
  },
  {
   "cell_type": "markdown",
   "id": "d6197117",
   "metadata": {},
   "source": [
    "__<hr style=\"border:1px solid blue\">__"
   ]
  },
  {
   "cell_type": "markdown",
   "id": "1868326b",
   "metadata": {},
   "source": [
    "__<i>Question 7<i>__<br>\n",
    "7.\tWhich is shorter: a 95% z-interval or a 95% t-interval for μ if we know that σ =s?\n",
    "\n",
    "A.\tThe z-interval is shorter<br>\n",
    "B.\tThe t-interval is shorter<br>\n",
    "C.\tBoth are equal<br>\n",
    "D.\tWe cannot say\n",
    "\n",
    "\n"
   ]
  },
  {
   "cell_type": "markdown",
   "id": "3d7dc484",
   "metadata": {},
   "source": [
    "__Ans 7__:__A__, At confidence level 95% , Tscore will 2.262 and zscore will be 1.96 <br>\n",
    "Ref article:https://www.statisticshowto.com/probability-and-statistics/confidence-interval/#CIZ2"
   ]
  },
  {
   "cell_type": "markdown",
   "id": "a487ffb5",
   "metadata": {},
   "source": [
    "__<hr style=\"border:1px solid blue\">__"
   ]
  },
  {
   "cell_type": "markdown",
   "id": "5ccae2fe",
   "metadata": {
    "ExecuteTime": {
     "end_time": "2022-05-09T18:15:00.853481Z",
     "start_time": "2022-05-09T18:15:00.837653Z"
    }
   },
   "source": [
    "__<i>Questions 8</i> and <i>9</i> are based on the following:__ <br>\n",
    "- To prepare a report on the economy, analysts need to estimate the percentage of businesses that plan to hire additional employees in the next 60 days."
   ]
  },
  {
   "cell_type": "markdown",
   "id": "f7c03076",
   "metadata": {},
   "source": [
    "__<i>Question 8<i>__<br>\n",
    "8.\tHow many randomly selected employers (minimum number) must we contact in order to guarantee a margin of error of no more than 4% (at 95% confidence)?<br>\n",
    "\n",
    "A.\t600<br>\n",
    "B.\t400<br>\n",
    "C.\t550<br>\n",
    "D.\t1000\n",
    "\n",
    "\n"
   ]
  },
  {
   "cell_type": "markdown",
   "id": "b99a2b60",
   "metadata": {
    "ExecuteTime": {
     "end_time": "2022-05-10T14:08:38.365615Z",
     "start_time": "2022-05-10T14:08:38.345125Z"
    }
   },
   "source": [
    "__Answer 8__: option __A__\n",
    "\n",
    "_Reason for choosing A as an answer_ <br>\n",
    "\n",
    "We know: <br><br>\n",
    "Margin of error is calculated as __moe =Z*SQRT($\\hat{p}$(1-$\\hat{p}$)/n)__ <br>\n",
    "where: <br>\n",
    "z is z score at given confidence level = 1.96 for CL as 95% <br>\n",
    "$\\hat{p}$: Sample proportion, assuming it to be 0.5 <br>\n",
    "moe=4% or 0.04 <br>\n",
    "\n",
    "on simplifying above equation we get __n=(Z^2*$\\hat{p}$*(1-$\\hat{p}*))/(moe)^2__<br>\n",
    "\n",
    "n= ((1.96)^2 * 0.5 * 0.5))/(0.04)^2 <br>\n",
    "n= (3.842 * 0.25)/0.0016 <br>\n",
    "__n= 600.3125__ <br>\n",
    "Therefore we choose __option A__\n",
    "\n",
    "\n"
   ]
  },
  {
   "cell_type": "markdown",
   "id": "4b597a38",
   "metadata": {},
   "source": [
    "__<hr style=\"border:1px solid blue\">__"
   ]
  },
  {
   "cell_type": "markdown",
   "id": "8a481520",
   "metadata": {},
   "source": [
    "__<i>Question 9<i>__<br>\n",
    "9.\tSuppose we want the above margin of error to be based on a 98% confidence level. What sample size (minimum) must we now use?<br>\n",
    "\n",
    "A.\t1000<br>\n",
    "B.\t757<br>\n",
    "C.\t848<br>\n",
    "D.\t543\n"
   ]
  },
  {
   "cell_type": "markdown",
   "id": "44e97203",
   "metadata": {},
   "source": [
    "__Answer 9__: option __C__<br>\n",
    "\n",
    "_Reason for choosing C  as an answer_ <br>\n",
    "Using __n=(Z^2 𝑝̂  (1-$\\hat{p}*))/(moe)^2__ as in Question 8 <br>\n",
    "\n",
    "where:\n",
    "n= to be calculated\n",
    "Z for confidence level 98% is 2.33 <br>\n",
    "moe=0.04 <br>\n",
    "$\\hat{p}$: Sample proportion, assuming it to be 0.5 <br><br>\n",
    "\n",
    "n=((2.33)^2 *0.5*(1-0.5))/(0.04)^2 <br>\n",
    "n=(5.43*0.25)/0.0016 =__848.44__"
   ]
  },
  {
   "cell_type": "markdown",
   "id": "c1ee8f86",
   "metadata": {},
   "source": [
    "__<hr style=\"border:1px solid blue\">__"
   ]
  },
  {
   "cell_type": "markdown",
   "id": "4252df78",
   "metadata": {},
   "source": [
    "__Scrap work__"
   ]
  },
  {
   "cell_type": "code",
   "execution_count": 63,
   "id": "e05e7c2a",
   "metadata": {
    "ExecuteTime": {
     "end_time": "2022-05-10T17:36:02.961318Z",
     "start_time": "2022-05-10T17:36:02.942500Z"
    }
   },
   "outputs": [
    {
     "data": {
      "text/plain": [
       "2.3263478740408408"
      ]
     },
     "execution_count": 63,
     "metadata": {},
     "output_type": "execute_result"
    }
   ],
   "source": [
    "from scipy import stats\n",
    "stats.norm.ppf(0.99)"
   ]
  },
  {
   "cell_type": "code",
   "execution_count": 65,
   "id": "7416e159",
   "metadata": {
    "ExecuteTime": {
     "end_time": "2022-05-10T17:41:07.674970Z",
     "start_time": "2022-05-10T17:41:07.656607Z"
    }
   },
   "outputs": [
    {
     "data": {
      "text/plain": [
       "5.4289000000000005"
      ]
     },
     "execution_count": 65,
     "metadata": {},
     "output_type": "execute_result"
    }
   ],
   "source": [
    "import numpy as np\n",
    "np.power(2.33,2)"
   ]
  },
  {
   "cell_type": "code",
   "execution_count": 66,
   "id": "0be87d09",
   "metadata": {
    "ExecuteTime": {
     "end_time": "2022-05-10T17:41:54.724533Z",
     "start_time": "2022-05-10T17:41:54.706142Z"
    }
   },
   "outputs": [
    {
     "data": {
      "text/plain": [
       "848.4374999999999"
      ]
     },
     "execution_count": 66,
     "metadata": {},
     "output_type": "execute_result"
    }
   ],
   "source": [
    "(5.43*0.25)/0.0016"
   ]
  },
  {
   "cell_type": "code",
   "execution_count": null,
   "id": "adcaca76",
   "metadata": {},
   "outputs": [],
   "source": []
  }
 ],
 "metadata": {
  "_draft": {
   "nbviewer_url": "https://gist.github.com/9ab082d7ed596a3c8a077ad8378b5172"
  },
  "gist": {
   "data": {
    "description": "Assignment Basic Statistics Level 2: Set 3",
    "public": true
   },
   "id": "9ab082d7ed596a3c8a077ad8378b5172"
  },
  "kernelspec": {
   "display_name": "Python 3 (ipykernel)",
   "language": "python",
   "name": "python3"
  },
  "language_info": {
   "codemirror_mode": {
    "name": "ipython",
    "version": 3
   },
   "file_extension": ".py",
   "mimetype": "text/x-python",
   "name": "python",
   "nbconvert_exporter": "python",
   "pygments_lexer": "ipython3",
   "version": "3.9.7"
  }
 },
 "nbformat": 4,
 "nbformat_minor": 5
}
